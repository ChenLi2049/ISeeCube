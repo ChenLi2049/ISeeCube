{
 "cells": [
  {
   "cell_type": "markdown",
   "id": "88d545ad-69c5-407b-bae2-b4cddba8aa95",
   "metadata": {},
   "source": [
    "# Predict"
   ]
  },
  {
   "cell_type": "code",
   "execution_count": 1,
   "id": "7d17fdce-a571-4a00-af7a-0e90904e926d",
   "metadata": {},
   "outputs": [
    {
     "name": "stderr",
     "output_type": "stream",
     "text": [
      "/home/xt/.local/lib/python3.8/site-packages/tqdm/auto.py:22: TqdmWarning: IProgress not found. Please update jupyter and ipywidgets. See https://ipywidgets.readthedocs.io/en/stable/user_install.html\n",
      "  from .autonotebook import tqdm as notebook_tqdm\n"
     ]
    }
   ],
   "source": [
    "import random\n",
    "import os\n",
    "import math\n",
    "import numpy as np\n",
    "import pandas as pd\n",
    "import matplotlib.pyplot as plt\n",
    "\n",
    "import torch\n",
    "import torch.nn as nn\n",
    "import torch.nn.functional as F\n",
    "from torch.utils.data import Dataset, DataLoader, BatchSampler\n",
    "from torchinfo import summary\n",
    "from tqdm import tqdm\n",
    "\n",
    "from torchscale.architecture.config import EncoderConfig\n",
    "from torchscale.architecture.encoder import Encoder"
   ]
  },
  {
   "cell_type": "markdown",
   "id": "d6a04103-aae1-4468-8400-d5f9e1239056",
   "metadata": {},
   "source": [
    "## §0 `utils.py` def `seed_everything`"
   ]
  },
  {
   "cell_type": "code",
   "execution_count": 2,
   "id": "6f993def-3c3f-4869-8204-dd00b0dfe0f6",
   "metadata": {},
   "outputs": [],
   "source": [
    "def seed_everything(seed):\n",
    "    random.seed(seed)\n",
    "    os.environ['PYTHONHASHSEED'] = str(seed)\n",
    "    np.random.seed(seed)\n",
    "    torch.manual_seed(seed)\n",
    "    torch.cuda.manual_seed(seed)\n",
    "    torch.backends.cudnn.deterministic = True\n",
    "    torch.backends.cudnn.benchmark = True"
   ]
  },
  {
   "cell_type": "markdown",
   "id": "64f20556-2ddc-4a3c-9253-951627fb7473",
   "metadata": {},
   "source": [
    "## §1 import `src.dataset_beit3`"
   ]
  },
  {
   "cell_type": "markdown",
   "id": "f5c597e5-350c-4599-bd42-195cfbf8c0d0",
   "metadata": {},
   "source": [
    "### §1.1 def `prepare_sensors`"
   ]
  },
  {
   "cell_type": "code",
   "execution_count": 3,
   "id": "3fdaefa2-6acf-4884-befd-8c058ee698bc",
   "metadata": {},
   "outputs": [],
   "source": [
    "def prepare_sensors():\n",
    "    sensors = pd.read_csv(\"data/sensor_geometry.csv\").astype(\n",
    "        {\n",
    "            \"sensor_id\": np.int16,\n",
    "            \"x\": np.float32,\n",
    "            \"y\": np.float32,\n",
    "            \"z\": np.float32,\n",
    "        }\n",
    "    )\n",
    "    sensors[\"string\"] = 0\n",
    "    sensors[\"qe\"] = 0  # or 1, Quantum Efficiency\n",
    "\n",
    "    for i in range(len(sensors) // 60):\n",
    "        start, end = i * 60, (i * 60) + 60\n",
    "        sensors.loc[start:end, \"string\"] = i# classify sensors with string\n",
    "\n",
    "        # High Quantum Efficiency in the lower 50 DOMs - https://arxiv.org/pdf/2209.03042.pdf (Figure 1)\n",
    "        if i in range(78, 86):\n",
    "            start_veto, end_veto = i * 60, (i * 60) + 10\n",
    "            start_core, end_core = end_veto + 1, (i * 60) + 60\n",
    "            sensors.loc[start_core:end_core, \"qe\"] = 1  # 1.35\n",
    "\n",
    "    # https://github.com/graphnet-team/graphnet/blob/b2bad25528652587ab0cdb7cf2335ee254cfa2db/src/graphnet/models/detector/icecube.py#L33-L41\n",
    "    # Assume that \"rde\" (relative dom efficiency) is equivalent to QE\n",
    "    sensors[\"x\"] /= 500\n",
    "    sensors[\"y\"] /= 500\n",
    "    sensors[\"z\"] /= 500\n",
    "\n",
    "    return sensors"
   ]
  },
  {
   "cell_type": "markdown",
   "id": "d50c186a-931a-458e-ad5e-1ab9ffd9435f",
   "metadata": {},
   "source": [
    "### §1.2 class `IceCubeDatatest`"
   ]
  },
  {
   "cell_type": "code",
   "execution_count": 4,
   "id": "d1e448ff-b668-4259-8b6d-40f0b23efe72",
   "metadata": {},
   "outputs": [],
   "source": [
    "class IceCubeDatatest(Dataset):\n",
    "    def __init__(self, dim_base=128, batch_id=1):\n",
    "        # dim_base for nomalize\n",
    "        self.dim_base = dim_base\n",
    "        \n",
    "        # 1. load `batch_1.parquet` and concat the same event_id together\n",
    "        batch_1 = pd.read_parquet(os.path.join(\"data/train\", \"batch_\"+str(batch_id)+\".parquet\"))# data/train/batch_1.parquet\n",
    "        batch_1 = batch_1.groupby('event_id').agg({\n",
    "            'sensor_id': list,\n",
    "            'time': list,\n",
    "            'charge': list,\n",
    "            'auxiliary': list\n",
    "        })\n",
    "        batch_1.reset_index(drop=True, inplace=True)# event_id -> index\n",
    "        self.batch_1 = batch_1\n",
    "        \n",
    "        # 2. geometry\n",
    "        sensors = prepare_sensors()\n",
    "        self.geometry = torch.from_numpy(sensors[[\"x\", \"y\", \"z\"]].values.astype(np.float32))\n",
    "        self.qe = sensors[\"qe\"].values\n",
    "        \n",
    "        # 3. load `train_meta.parquet` to get target: azimuth and zenith\n",
    "        train_meta = pd.read_parquet('data/train_meta.parquet')\n",
    "        batch_1_meta = train_meta[train_meta['batch_id'] == batch_id]\n",
    "        batch_1_meta.reset_index(drop=True, inplace=True)# event_id -> index\n",
    "        self.batch_1_meta = batch_1_meta\n",
    "        \n",
    "        assert len(self.batch_1)==len(self.batch_1_meta), \"batch_1 and batch_1_meta length doesn't match\"\n",
    "\n",
    "    def __len__(self):\n",
    "        return len(self.batch_1)\n",
    "    \n",
    "    def __getitem__(self, index):\n",
    "        # 1. for each event in `batch_1.parquet`\n",
    "        batch_1_event = self.batch_1.loc[index]\n",
    "        sensor_id = np.array(batch_1_event[\"sensor_id\"])\n",
    "        time = np.array(batch_1_event[\"time\"])\n",
    "        time = (time - 1e4) / 3e4\n",
    "        charge = np.array(batch_1_event[\"charge\"])\n",
    "        charge = np.log10(charge) / 3.0\n",
    "        auxiliary = np.array(batch_1_event[\"auxiliary\"])\n",
    "\n",
    "        # normalize so that the length of each event is 128\n",
    "        dim_base = len(sensor_id)\n",
    "        # the output of this method\n",
    "        dim_base_0 = dim_base\n",
    "        if dim_base < self.dim_base:\n",
    "            # assignment\n",
    "            sensor_id = np.pad(sensor_id, (0, max(0, self.dim_base - dim_base)))\n",
    "            time = np.pad(time, (0, max(0, self.dim_base - dim_base)))\n",
    "            charge = np.pad(charge, (0, max(0, self.dim_base - dim_base)))\n",
    "            auxiliary = np.pad(auxiliary, (0, max(0, self.dim_base - dim_base)))\n",
    "        else:\n",
    "            # generate a randomly arranged index array ids\n",
    "            ids = torch.randperm(dim_base).numpy()\n",
    "            # negtive index\n",
    "            auxiliary_n = np.where(~auxiliary)[0]\n",
    "            # positive index\n",
    "            auxiliary_p = np.where(auxiliary)[0]\n",
    "            # choose as many as ids in the negtive index\n",
    "            ids_n = ids[auxiliary_n][: min(self.dim_base, len(auxiliary_n))]\n",
    "            # the rest is positive index\n",
    "            ids_p = ids[auxiliary_p][: min(self.dim_base - len(ids_n), len(auxiliary_p))]\n",
    "            # concat into a new index\n",
    "            ids = np.concatenate([ids_n, ids_p])\n",
    "            # sort the index (from small to big)\n",
    "            ids.sort()\n",
    "            # assignment\n",
    "            sensor_id = sensor_id[ids]\n",
    "            time = time[ids]\n",
    "            charge = charge[ids]\n",
    "            auxiliary = auxiliary[ids]\n",
    "            dim_base = len(ids)\n",
    "\n",
    "        # 2. geometry\n",
    "        sensor_id = torch.from_numpy(sensor_id).long()\n",
    "        pos = self.geometry[sensor_id]\n",
    "        pos[dim_base:] = 0\n",
    "        qe = self.qe[sensor_id]\n",
    "        qe[dim_base:] = 0\n",
    "        \n",
    "        # 3. target\n",
    "        azimuth = self.batch_1_meta.loc[index].azimuth\n",
    "        zenith = self.batch_1_meta.loc[index].zenith\n",
    "        target = np.array([azimuth, zenith]).astype(np.float32)\n",
    "        target = torch.from_numpy(target)\n",
    "        \n",
    "        # 4. mask\n",
    "        mask = torch.zeros(self.dim_base, dtype=torch.bool)\n",
    "        mask[:dim_base] = True\n",
    "\n",
    "        return {\n",
    "            \"time\": torch.from_numpy(time).float(),\n",
    "            \"charge\": torch.from_numpy(charge).float(),\n",
    "            \"auxiliary\": torch.from_numpy(auxiliary).long(),\n",
    "            \"pos\": pos,\n",
    "            \"mask\": mask,\n",
    "            \"qe\": qe,\n",
    "            \"dim_base_0\": dim_base_0\n",
    "        }#, {\"target\": target}"
   ]
  },
  {
   "cell_type": "markdown",
   "id": "68124994-f578-4047-a8f6-ab2e9215345e",
   "metadata": {},
   "source": [
    "## §2 `model.py`"
   ]
  },
  {
   "cell_type": "markdown",
   "id": "1f5b8bc8-544b-44da-bfd3-589c9844fbc0",
   "metadata": {},
   "source": [
    "### §2.1 class `SinusoidalPosEmb`"
   ]
  },
  {
   "cell_type": "code",
   "execution_count": 5,
   "id": "8fb49ece-a629-4e75-a755-797339ca39dd",
   "metadata": {},
   "outputs": [],
   "source": [
    "class SinusoidalPosEmb(nn.Module):# Sinusoidal Position Embedding\n",
    "    def __init__(self, dim=16, M=10000):\n",
    "        super().__init__()\n",
    "        self.dim = dim\n",
    "        self.M = M\n",
    "\n",
    "    def forward(self, x):\n",
    "        device = x.device\n",
    "        half_dim = self.dim // 2\n",
    "        emb = math.log(self.M) / half_dim\n",
    "        emb = torch.exp(torch.arange(half_dim, device=device) * (-emb))\n",
    "        emb = x[..., None] * emb[None, ...]\n",
    "        emb = torch.cat((emb.sin(), emb.cos()), dim=-1)\n",
    "        return emb"
   ]
  },
  {
   "cell_type": "markdown",
   "id": "f214b931-47d0-4055-8701-17328ce46d72",
   "metadata": {},
   "source": [
    "### §2.2 class `IceCubeEmbedding`\n",
    "\n",
    "- `dim_base` is the dimension of normalize, see `IceCubeDataset`, `dim` is the dimension of embedding"
   ]
  },
  {
   "cell_type": "code",
   "execution_count": 6,
   "id": "3156ac33-18c6-4137-8cef-a1f9476f04eb",
   "metadata": {},
   "outputs": [],
   "source": [
    "class IceCubeEmbedding(nn.Module):\n",
    "    def __init__(self, dim=384, dim_base=128):\n",
    "        super().__init__()\n",
    "        self.emb = SinusoidalPosEmb(dim=dim_base)\n",
    "        self.aux_emb = nn.Embedding(2, dim_base // 2)\n",
    "        self.emb2 = SinusoidalPosEmb(dim=dim_base // 2)\n",
    "        self.proj = nn.Sequential(\n",
    "            nn.Linear(6 * dim_base, 6 * dim_base),\n",
    "            nn.LayerNorm(6 * dim_base),\n",
    "            nn.GELU(),\n",
    "            nn.Linear(6 * dim_base, dim),\n",
    "        )\n",
    "\n",
    "    def forward(self, x, Lmax=None):\n",
    "        pos = x[\"pos\"] if Lmax is None else x[\"pos\"][:, :Lmax]\n",
    "        charge = x[\"charge\"] if Lmax is None else x[\"charge\"][:, :Lmax]\n",
    "        time = x[\"time\"] if Lmax is None else x[\"time\"][:, :Lmax]\n",
    "        auxiliary = x[\"auxiliary\"] if Lmax is None else x[\"auxiliary\"][:, :Lmax]\n",
    "        length = torch.log10(x[\"dim_base_0\"].to(dtype=pos.dtype))\n",
    "\n",
    "        x = torch.cat(\n",
    "            [\n",
    "                #self.cls_token,\n",
    "                self.emb(4096 * pos).flatten(-2),\n",
    "                self.emb(1024 * charge),\n",
    "                self.emb(4096 * time),\n",
    "                self.aux_emb(auxiliary),\n",
    "                self.emb2(length).unsqueeze(1).expand(-1, pos.shape[1], -1)\n",
    "            ],\n",
    "            -1,\n",
    "        )\n",
    "        x = self.proj(x)\n",
    "        return x"
   ]
  },
  {
   "cell_type": "markdown",
   "id": "3aed0499-ccf6-4c13-afe3-dca9917885b1",
   "metadata": {},
   "source": [
    "### §2.3 class `IceCubeModel`\n",
    "\n",
    "[microsoft/torchscale (github.com)](https://github.com/microsoft/torchscale/tree/main)"
   ]
  },
  {
   "cell_type": "markdown",
   "id": "92abd901-168e-4379-a015-8853ac447903",
   "metadata": {
    "tags": []
   },
   "source": [
    "1. Use `Encoder` from `torchscale`\n",
    "    \n",
    "    ```python\n",
    "    from torchscale.architecture.config import EncoderConfig\n",
    "    from torchscale.architecture.encoder import Encoder\n",
    "\n",
    "    encoder_config = EncoderConfig(encoder_embed_dim = 384)\n",
    "    encoder = Encoder(encoder_config)\n",
    "\n",
    "    # to test encoder:\n",
    "    # https://github.com/microsoft/torchscale/blob/main/tests/test_encoder.py\n",
    "    dummy = torch.rand(32, 129, 384)\n",
    "    dummy = encoder(src_tokens=None, token_embeddings=dummy)\n",
    "    dummy = dummy['encoder_out']\n",
    "    print(dummy.shape)\n",
    "    ```\n",
    "    \n",
    "    The output is:\n",
    "    \n",
    "    ```python\n",
    "    torch.Size([32, 129, 384])\n",
    "    ```\n",
    "\n",
    "2. First take the slices then use `self.proj_out` to get xyz. 32 is batch_size\n",
    "    \n",
    "    ```python\n",
    "    x = torch.randn(32, 129, 384)\n",
    "    print(x[:, 0, :].shape)\n",
    "    proj_out = nn.Linear(384, 3)\n",
    "    x = proj_out(x[:, 0, :])\n",
    "    print(x.shape)\n",
    "    ```\n",
    "    \n",
    "    The output is:\n",
    "    \n",
    "    ```Shell\n",
    "    torch.Size([32, 384])\n",
    "    torch.Size([32, 3])\n",
    "    ```"
   ]
  },
  {
   "cell_type": "code",
   "execution_count": 7,
   "id": "8993375d-3138-4651-a1f2-4f738da08e94",
   "metadata": {},
   "outputs": [],
   "source": [
    "class IceCubeModel(nn.Module):\n",
    "    def __init__(\n",
    "        self,\n",
    "        dim=384,\n",
    "        dim_base=128\n",
    "    ):\n",
    "        super().__init__()\n",
    "        self.icecube_embedding = IceCubeEmbedding(dim, dim_base)\n",
    "        encoder_config_1 = EncoderConfig(\n",
    "            encoder_attention_heads=6,\n",
    "            encoder_embed_dim=dim,\n",
    "            encoder_ffn_embed_dim=1536,# Feed Forward Network\n",
    "            encoder_layers=4,\n",
    "            # relative position bias, see [1910.10683]\n",
    "            rel_pos_buckets=32,\n",
    "            max_rel_pos=dim_base\n",
    "        )\n",
    "        self.encoder_1 = Encoder(encoder_config_1)\n",
    "        self.cls_token = nn.Linear(dim, 1, bias=False)\n",
    "        encoder_config_2 = EncoderConfig(\n",
    "            encoder_attention_heads=12,\n",
    "            encoder_embed_dim=dim,\n",
    "            encoder_ffn_embed_dim=1536,# Feed Forward Network\n",
    "            encoder_layers=12\n",
    "        )\n",
    "        self.encoder_2 = Encoder(encoder_config_2)\n",
    "        self.proj_out = nn.Linear(dim, 3)\n",
    "\n",
    "    def forward(self, x0):\n",
    "        # mask\n",
    "        mask = x0[\"mask\"]\n",
    "        Lmax = mask.sum(-1).max()\n",
    "        # cls token\n",
    "        batch_size, _ = mask.shape\n",
    "        cls_token = self.cls_token.weight.unsqueeze(0).expand(batch_size, -1, -1)\n",
    "        # x\n",
    "        x = self.icecube_embedding(x0, Lmax)\n",
    "        # encoder 1\n",
    "        x = self.encoder_1(src_tokens=None, token_embeddings=x)\n",
    "        x = x['encoder_out']\n",
    "        # concat cls token\n",
    "        x = torch.cat([cls_token, x], 1)\n",
    "        # encoder 2\n",
    "        x = self.encoder_2(src_tokens=None, token_embeddings=x)\n",
    "        x = x['encoder_out']\n",
    "        x = self.proj_out(x[:, 0, :])# get cls token, then xyz\n",
    "        return x"
   ]
  },
  {
   "cell_type": "code",
   "execution_count": 8,
   "id": "24720a19-9ba2-4168-9e88-7236657996d5",
   "metadata": {
    "tags": []
   },
   "outputs": [
    {
     "data": {
      "text/plain": [
       "======================================================================\n",
       "Layer (type:depth-idx)                        Param #\n",
       "======================================================================\n",
       "IceCubeModel                                  --\n",
       "├─IceCubeEmbedding: 1-1                       --\n",
       "│    └─SinusoidalPosEmb: 2-1                  --\n",
       "│    └─Embedding: 2-2                         128\n",
       "│    └─SinusoidalPosEmb: 2-3                  --\n",
       "│    └─Sequential: 2-4                        --\n",
       "│    │    └─Linear: 3-1                       590,592\n",
       "│    │    └─LayerNorm: 3-2                    1,536\n",
       "│    │    └─GELU: 3-3                         --\n",
       "│    │    └─Linear: 3-4                       295,296\n",
       "├─Encoder: 1-2                                --\n",
       "│    └─Dropout: 2-5                           --\n",
       "│    └─ModuleList: 2-6                        --\n",
       "│    │    └─EncoderLayer: 3-5                 1,778,304\n",
       "│    │    └─EncoderLayer: 3-6                 1,778,304\n",
       "│    │    └─EncoderLayer: 3-7                 1,778,304\n",
       "│    │    └─EncoderLayer: 3-8                 1,778,304\n",
       "│    └─LayerNorm: 2-7                         768\n",
       "│    └─RelativePositionBias: 2-8              --\n",
       "│    │    └─Embedding: 3-9                    192\n",
       "├─Linear: 1-3                                 384\n",
       "├─Encoder: 1-4                                --\n",
       "│    └─Dropout: 2-9                           --\n",
       "│    └─ModuleList: 2-10                       --\n",
       "│    │    └─EncoderLayer: 3-10                1,778,304\n",
       "│    │    └─EncoderLayer: 3-11                1,778,304\n",
       "│    │    └─EncoderLayer: 3-12                1,778,304\n",
       "│    │    └─EncoderLayer: 3-13                1,778,304\n",
       "│    │    └─EncoderLayer: 3-14                1,778,304\n",
       "│    │    └─EncoderLayer: 3-15                1,778,304\n",
       "│    │    └─EncoderLayer: 3-16                1,778,304\n",
       "│    │    └─EncoderLayer: 3-17                1,778,304\n",
       "│    │    └─EncoderLayer: 3-18                1,778,304\n",
       "│    │    └─EncoderLayer: 3-19                1,778,304\n",
       "│    │    └─EncoderLayer: 3-20                1,778,304\n",
       "│    │    └─EncoderLayer: 3-21                1,778,304\n",
       "│    └─LayerNorm: 2-11                        768\n",
       "├─Linear: 1-5                                 1,155\n",
       "======================================================================\n",
       "Total params: 29,343,683\n",
       "Trainable params: 29,343,683\n",
       "Non-trainable params: 0\n",
       "======================================================================"
      ]
     },
     "execution_count": 8,
     "metadata": {},
     "output_type": "execute_result"
    }
   ],
   "source": [
    "summary(IceCubeModel())"
   ]
  },
  {
   "cell_type": "markdown",
   "id": "73d5b65a-df57-4d48-b3ec-939f11e1a4c1",
   "metadata": {
    "tags": []
   },
   "source": [
    "## §3 `loss.py`"
   ]
  },
  {
   "cell_type": "markdown",
   "id": "7952e38e-40a1-4c8d-a847-b3853061d85d",
   "metadata": {},
   "source": [
    "### §3.1 def `mse_loss`\n",
    "\n",
    "Shape of input:\n",
    "- `pred`: shape is [batch_size, 3], \"3\" is xyz.\n",
    "- `y[\"target\"]`: shape is [batch_size, 2], \"2\" is azimuth and zenith."
   ]
  },
  {
   "cell_type": "code",
   "execution_count": 9,
   "id": "152cbe8a-7269-4831-9dc0-18f4acc03ced",
   "metadata": {
    "tags": []
   },
   "outputs": [],
   "source": [
    "def mse_loss(pred, y):\n",
    "    pred = pred.float()\n",
    "    l = torch.norm(pred.float(), dim=-1).unsqueeze(-1)\n",
    "    pred = pred.float()\n",
    "    \n",
    "    sa2 = torch.sin(y[\"target\"][:, 0])\n",
    "    ca2 = torch.cos(y[\"target\"][:, 0])\n",
    "    sz2 = torch.sin(y[\"target\"][:, 1])\n",
    "    cz2 = torch.cos(y[\"target\"][:, 1])\n",
    "    target = torch.stack([sa2 * sz2, ca2 * sz2, cz2], -1)\n",
    "    \n",
    "    loss = nn.MSELoss()(pred, target)\n",
    "    return loss"
   ]
  },
  {
   "cell_type": "markdown",
   "id": "d1502e44-b94e-463b-87d1-7c1b3aeaf141",
   "metadata": {},
   "source": [
    "### §3.2 def `competition_metric`\n",
    "\n",
    "Shape of input:\n",
    "- `pred`: shape is [batch_size, 3], \"3\" is xyz.\n",
    "- `y[\"target\"]`: shape is [batch_size, 2], \"2\" is azimuth and zenith.\n",
    "\n",
    "Official metric of the kaggle competition：$$\\Psi = \\arccos (\\sin{\\vartheta_\\text{true}}\\sin{\\vartheta_\\text{reco}}(\\cos{{\\varphi_\\text{ture}}}\\cos{{\\varphi_\\text{reco}}}+\\sin{{\\varphi_\\text{ture}}}\\sin{{\\varphi_\\text{reco}}})+\\cos{\\vartheta_\\text{true}}\\cos{\\vartheta_\\text{reco}})$$"
   ]
  },
  {
   "cell_type": "code",
   "execution_count": 10,
   "id": "c33c7a19-1e61-45c0-bcda-0e659d491984",
   "metadata": {},
   "outputs": [],
   "source": [
    "def competition_metric(pred, y):\n",
    "    pred = F.normalize(pred.double(), dim=-1)\n",
    "\n",
    "    sa2 = torch.sin(y[\"target\"][:, 0])#sin(azimuth)\n",
    "    ca2 = torch.cos(y[\"target\"][:, 0])\n",
    "    sz2 = torch.sin(y[\"target\"][:, 1])#sin(zenith)\n",
    "    cz2 = torch.cos(y[\"target\"][:, 1])\n",
    "\n",
    "    scalar_prod = (\n",
    "        pred[:, 0] * sa2 * sz2 + pred[:, 1] * ca2 * sz2 + pred[:, 2] * cz2\n",
    "    ).clip(-1 + 1e-8, 1 - 1e-8)\n",
    "    return torch.acos(scalar_prod).abs().mean(-1).float()"
   ]
  },
  {
   "cell_type": "markdown",
   "id": "39682f2c-c6e0-4a84-bc47-5803967999d2",
   "metadata": {},
   "source": [
    "## §4 `predict.py`"
   ]
  },
  {
   "cell_type": "code",
   "execution_count": 11,
   "id": "dd079522-ee0d-4253-b0e2-8795c27c0a1d",
   "metadata": {},
   "outputs": [],
   "source": [
    "batch_id = 1\n",
    "seed_everything(42)"
   ]
  },
  {
   "cell_type": "markdown",
   "id": "9104cec6-30b7-46f4-b209-e2c34d2e7c28",
   "metadata": {},
   "source": [
    "### §4.1 Angular Error Distribution"
   ]
  },
  {
   "cell_type": "code",
   "execution_count": 12,
   "id": "14ed229b-bfd0-4ad4-af90-9cb0565e3082",
   "metadata": {},
   "outputs": [],
   "source": [
    "# load pretrained model\n",
    "icecube_model = IceCubeModel()\n",
    "weight = torch.load('BEiT3_29M_MSE_rel128_FULL/models/BEiT3_29M_MSE_rel128_FULL_0.pth') \n",
    "icecube_model.load_state_dict(weight)\n",
    "icecube_model.eval()\n",
    "icecube_model.to(\"cuda\")\n",
    "# load dataset\n",
    "dataset = IceCubeDatatest(batch_id = batch_id)\n",
    "data_size = len(dataset)\n",
    "indices = list(range(data_size))\n",
    "batch_sampler = BatchSampler(\n",
    "    torch.utils.data.SequentialSampler(indices),\n",
    "    batch_size=32,# parallel processing\n",
    "    drop_last=False\n",
    ")\n",
    "dataloader = DataLoader(\n",
    "    dataset,\n",
    "    num_workers=1,\n",
    "    batch_sampler=batch_sampler\n",
    ")"
   ]
  },
  {
   "cell_type": "code",
   "execution_count": 13,
   "id": "62101591-2b66-4db3-a85d-bb3b302f45d4",
   "metadata": {
    "tags": []
   },
   "outputs": [],
   "source": [
    "def dict_to(x, device):\n",
    "    return {k: x[k].to(device) for k in x}"
   ]
  },
  {
   "cell_type": "code",
   "execution_count": 14,
   "id": "6c1fb8a0-e929-489e-872f-5b19c893d76c",
   "metadata": {
    "tags": []
   },
   "outputs": [
    {
     "name": "stderr",
     "output_type": "stream",
     "text": [
      "100%|███████████████████████████████████████████████████████████████████████████████████████████████████| 6250/6250 [03:48<00:00, 27.39it/s]\n"
     ]
    }
   ],
   "source": [
    "preds = torch.tensor([]).to(\"cuda\")\n",
    "for x in tqdm(dataloader):\n",
    "    with torch.no_grad():\n",
    "        x = dict_to(x, \"cuda\")\n",
    "        preds = torch.cat((preds, icecube_model(x)), dim=0)"
   ]
  },
  {
   "cell_type": "code",
   "execution_count": 15,
   "id": "56931c4a-30f5-49be-b263-1a715cbf9f1f",
   "metadata": {},
   "outputs": [],
   "source": [
    "# print(preds)\n",
    "# print(preds.shape)"
   ]
  },
  {
   "cell_type": "code",
   "execution_count": 16,
   "id": "94cf62f6-de38-415f-9667-580a01c9baaa",
   "metadata": {},
   "outputs": [],
   "source": [
    "train_meta = pd.read_parquet('data/train_meta.parquet')\n",
    "batch_1_meta = train_meta[train_meta['batch_id'] == batch_id]\n",
    "batch_1_meta.reset_index(drop=True, inplace=True)# event_id -> index"
   ]
  },
  {
   "cell_type": "code",
   "execution_count": 17,
   "id": "42483ae2-62bc-45c9-a78d-b82797ffa875",
   "metadata": {},
   "outputs": [],
   "source": [
    "competition_metrics = torch.tensor([]).to(\"cuda\")\n",
    "for i in range(data_size):\n",
    "    # get azimuth and zenith\n",
    "    azimuth = batch_1_meta.loc[i].azimuth\n",
    "    zenith = batch_1_meta.loc[i].zenith\n",
    "    target = np.array([azimuth, zenith]).astype(np.float32)\n",
    "    target = torch.from_numpy(target)\n",
    "    target = target.unsqueeze(0).to(\"cuda\")\n",
    "    target = {\"target\": target}\n",
    "    competition_metric_i = competition_metric(preds[i].unsqueeze(0), target)\n",
    "    competition_metric_i = torch.tensor([competition_metric_i]).to(\"cuda\")\n",
    "    competition_metrics = torch.cat((competition_metrics, competition_metric_i),dim=0)"
   ]
  },
  {
   "cell_type": "code",
   "execution_count": 18,
   "id": "dcead86f-4903-4998-8a5e-09d1af7a2c22",
   "metadata": {},
   "outputs": [],
   "source": [
    "#print(competition_metrics)\n",
    "#print(competition_metrics.shape)"
   ]
  },
  {
   "cell_type": "code",
   "execution_count": 19,
   "id": "7ed7d481-f2d0-4a42-8670-898a57d393f3",
   "metadata": {},
   "outputs": [
    {
     "data": {
      "text/plain": [
       "<matplotlib.legend.Legend at 0x7f404d772e80>"
      ]
     },
     "execution_count": 19,
     "metadata": {},
     "output_type": "execute_result"
    },
    {
     "data": {
      "image/png": "[encoded data removed]",
      "text/plain": [
       "<Figure size 700x300 with 1 Axes>"
      ]
     },
     "metadata": {},
     "output_type": "display_data"
    }
   ],
   "source": [
    "# since kappa is not predicted in our model, a sigma histogram can not be plotted\n",
    "\n",
    "fig = plt.figure(figsize = (7,3))\n",
    "plt.hist(competition_metrics.to(\"cpu\").numpy(), \n",
    "         bins = np.arange(0,np.pi*2, 0.05), \n",
    "         histtype = 'step', \n",
    "         label = f'mean angular error: {competition_metrics.to(\"cpu\").numpy().mean():,.2f}')\n",
    "plt.xlabel('Angular Error [rad.]')\n",
    "plt.ylabel('Counts')\n",
    "#plt.title(f'Angular Error Distribution (Batch {batch_id})', size = 15)\n",
    "plt.legend(frameon = False)"
   ]
  },
  {
   "cell_type": "markdown",
   "id": "9d929dbc-3257-46f9-9eeb-a3f91a604cfa",
   "metadata": {},
   "source": [
    "### §4.2 Distribution of the Angular Error"
   ]
  },
  {
   "cell_type": "code",
   "execution_count": 20,
   "id": "f4be900f-7bec-41d3-8524-f6ed58628139",
   "metadata": {},
   "outputs": [],
   "source": [
    "def xyz_to_angle(xyz):\n",
    "    z_normed = xyz[:, 2] / torch.norm(xyz ,dim=1)\n",
    "    x_normed = xyz[:, 0] / torch.norm(xyz[:, :2] ,dim=1)\n",
    "    azimuth = ( torch.arccos(x_normed) * torch.sign(xyz[:, 1]) ) % (np.pi * 2)\n",
    "    zenith = torch.arccos(z_normed)\n",
    "    angle = torch.stack((azimuth, zenith), dim=1)\n",
    "    return angle\n",
    "\n",
    "preds_angle = xyz_to_angle(preds)"
   ]
  },
  {
   "cell_type": "code",
   "execution_count": 21,
   "id": "95791c20-380b-4ca0-9dae-a05f80592c02",
   "metadata": {},
   "outputs": [],
   "source": [
    "azimuth = torch.tensor(batch_1_meta[\"azimuth\"])\n",
    "azimuth = azimuth.unsqueeze(0)\n",
    "zenith = torch.tensor(batch_1_meta[\"zenith\"])\n",
    "zenith = zenith.unsqueeze(0)\n",
    "target_angle = torch.cat((azimuth,zenith),dim=0)\n",
    "target_angle = torch.transpose(target_angle, 0, 1)"
   ]
  },
  {
   "cell_type": "code",
   "execution_count": 22,
   "id": "68d8d8e6-d52f-412f-9bff-5f6ac670c40c",
   "metadata": {},
   "outputs": [],
   "source": [
    "difference = preds_angle.to(\"cpu\") - target_angle.to(\"cpu\")\n",
    "difference = difference.numpy()\n",
    "x = difference[:, 0]\n",
    "y = difference[:, 1]"
   ]
  },
  {
   "cell_type": "code",
   "execution_count": 23,
   "id": "0ec7cc46-e65f-4920-b999-48ad2f90406a",
   "metadata": {},
   "outputs": [
    {
     "data": {
      "image/png": "[encoded data removed]",
      "text/plain": [
       "<Figure size 700x300 with 2 Axes>"
      ]
     },
     "metadata": {},
     "output_type": "display_data"
    }
   ],
   "source": [
    "H, xedges, yedges = np.histogram2d(x, y, bins=(100,100))\n",
    "H = H.T\n",
    "fig = plt.figure(figsize=(7, 3))\n",
    "ax = fig.add_subplot(111)\n",
    "plt.xlim(-2*np.pi, 2*np.pi)\n",
    "plt.ylim(-np.pi, np.pi)\n",
    "plt.xticks([-2*np.pi, -np.pi, 0, np.pi, 2*np.pi],\n",
    "           [r\"$-2 \\pi$\", r\"$- \\pi$\", \"0\", r\"$\\pi$\", r\"$2 \\pi$\"])\n",
    "plt.yticks([-np.pi, 0, np.pi],\n",
    "           [r\"$- \\pi$\", \"0\", r\"$\\pi$\"])\n",
    "plt.xlabel(\"Azimuthal Error [rad.]\")\n",
    "plt.ylabel(\"Zenithal Error [rad.]\")\n",
    "#plt.title(f'Distribution of the Angular Error (Batch {batch_id})')\n",
    "plt.imshow(H, interpolation='nearest', origin='lower',\n",
    "           extent=[-2*np.pi, 2*np.pi, -np.pi, np.pi],\n",
    "           cmap='jet')\n",
    "plt.colorbar()\n",
    "plt.show()"
   ]
  },
  {
   "cell_type": "code",
   "execution_count": null,
   "id": "dd35690c-ba27-4d8f-829f-50dee1b9b539",
   "metadata": {},
   "outputs": [],
   "source": []
  }
 ],
 "metadata": {
  "kernelspec": {
   "display_name": "Python 3 (ipykernel)",
   "language": "python",
   "name": "python3"
  },
  "language_info": {
   "codemirror_mode": {
    "name": "ipython",
    "version": 3
   },
   "file_extension": ".py",
   "mimetype": "text/x-python",
   "name": "python",
   "nbconvert_exporter": "python",
   "pygments_lexer": "ipython3",
   "version": "3.11.2"
  }
 },
 "nbformat": 4,
 "nbformat_minor": 5
}
